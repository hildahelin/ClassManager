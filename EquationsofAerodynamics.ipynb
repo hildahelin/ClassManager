{
  "nbformat": 4,
  "nbformat_minor": 0,
  "metadata": {
    "colab": {
      "provenance": [],
      "authorship_tag": "ABX9TyPtsy9gbvcsQSwzs6+kUjl5",
      "include_colab_link": true
    },
    "kernelspec": {
      "name": "python3",
      "display_name": "Python 3"
    },
    "language_info": {
      "name": "python"
    }
  },
  "cells": [
    {
      "cell_type": "markdown",
      "metadata": {
        "id": "view-in-github",
        "colab_type": "text"
      },
      "source": [
        "<a href=\"https://colab.research.google.com/github/hildahelin/ClassManager/blob/main/EquationsofAerodynamics.ipynb\" target=\"_parent\"><img src=\"https://colab.research.google.com/assets/colab-badge.svg\" alt=\"Open In Colab\"/></a>"
      ]
    },
    {
      "cell_type": "code",
      "source": [
        "def calculate_lift_drag(p, V, S, CL, CD):\n",
        "\n",
        "\n",
        "\n",
        "    lift = 0.5 * p * V**2 * S * CL\n",
        "    drag = 0.5 * p * V**2 * S * CD\n",
        "    return lift, drag\n",
        "\n",
        "#exemple\n",
        "p = 1.225\n",
        "V = 70\n",
        "S = 16.2\n",
        "CL = 1.2\n",
        "CD = 0.03\n",
        "\n",
        "L, D = calculate_lift_drag(rho, V, S, CL, CD)\n",
        "\n",
        "print(f\"Force de  Lift : {L:.2f} N\")\n",
        "print(f\"Force de Drag : {D:.2f} N\")"
      ],
      "metadata": {
        "colab": {
          "base_uri": "https://localhost:8080/"
        },
        "id": "qQWdmSTkqHR6",
        "outputId": "c9642d29-25de-490b-ae46-828fdfc915cb"
      },
      "execution_count": 2,
      "outputs": [
        {
          "output_type": "stream",
          "name": "stdout",
          "text": [
            "Force de  Lift : 58344.30 N\n",
            "Force de Drag : 1458.61 N\n"
          ]
        }
      ]
    },
    {
      "cell_type": "markdown",
      "source": [],
      "metadata": {
        "id": "kcol5JvXr5cW"
      }
    },
    {
      "cell_type": "code",
      "source": [
        "def euler_CL_CD(dp, p, V):\n",
        "    CL = dp / (0.5 * p * V**2)\n",
        "    CD = 0.001\n",
        "    return CL, CD\n",
        "\n",
        "def navier_CL_CD(dp, tau, p, V):\n",
        "    CL = dp / (0.5 * p * V**2)\n",
        "    CD = (dp + tau) / (0.5 * p * V**2)\n",
        "    return CLe, CD\n",
        "\n",
        "def lift_drag(p, V, S, CL, CD):\n",
        "    L = 0.5 * p * V**2 * S * CL\n",
        "    D = 0.5 * p * V**2 * S * CD\n",
        "    return L, D\n",
        "\n",
        "# Example\n",
        "p = 1.225\n",
        "V = 70\n",
        "S = 16.2\n",
        "dp = 300\n",
        "tau = 5\n",
        "\n",
        "# Euler\n",
        "CL1, CD1 = euler_CL_CD(dp, p, V)\n",
        "L1, D1 = lift_drag(p, V, S, CL1, CD1)\n",
        "\n",
        "# Navier-Stokes\n",
        "CL2, CD2 = navier_CL_CD(dp, tau, p, V)\n",
        "L2, D2 = lift_drag(p, V, S, CL2, CD2)\n",
        "\n",
        "# Results\n",
        "print(\"EULER\")\n",
        "print(f\"CL = {CL1:.4f}, CD = {CD1:.4f}\")\n",
        "print(f\"L = {L1:.2f} N, D = {D1:.2f} N\\n\")\n",
        "\n",
        "print(\"NAVIER–STOKES\")\n",
        "print(f\"CL = {CL2:.4f}, CD = {CD2:.4f}\")\n",
        "print(f\"L = {L2:.2f} N, D = {D2:.2f} N\")"
      ],
      "metadata": {
        "colab": {
          "base_uri": "https://localhost:8080/"
        },
        "id": "ONzRN1QHrJ_2",
        "outputId": "5b9f071b-193e-44ff-a845-1b2bc8b85190"
      },
      "execution_count": 4,
      "outputs": [
        {
          "output_type": "stream",
          "name": "stdout",
          "text": [
            "EULER\n",
            "CL = 0.1000, CD = 0.0010\n",
            "L = 4860.00 N, D = 48.62 N\n",
            "\n",
            "NAVIER–STOKES\n",
            "CL = 0.1000, CD = 0.1016\n",
            "L = 4860.00 N, D = 4941.00 N\n"
          ]
        }
      ]
    },
    {
      "cell_type": "markdown",
      "source": [],
      "metadata": {
        "id": "5ZmBQxJrqHbX"
      }
    }
  ]
}